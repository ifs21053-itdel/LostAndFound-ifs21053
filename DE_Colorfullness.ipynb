{
  "nbformat": 4,
  "nbformat_minor": 0,
  "metadata": {
    "colab": {
      "provenance": [],
      "authorship_tag": "ABX9TyO7nD7n1CFc010YEGd6mdkz",
      "include_colab_link": true
    },
    "kernelspec": {
      "name": "python3",
      "display_name": "Python 3"
    },
    "language_info": {
      "name": "python"
    }
  },
  "cells": [
    {
      "cell_type": "markdown",
      "metadata": {
        "id": "view-in-github",
        "colab_type": "text"
      },
      "source": [
        "<a href=\"https://colab.research.google.com/github/ifs21053-itdel/LostAndFound-ifs21053/blob/master/DE_Colorfullness.ipynb\" target=\"_parent\"><img src=\"https://colab.research.google.com/assets/colab-badge.svg\" alt=\"Open In Colab\"/></a>"
      ]
    },
    {
      "cell_type": "code",
      "execution_count": null,
      "metadata": {
        "colab": {
          "base_uri": "https://localhost:8080/"
        },
        "id": "no_ArCRjz1VS",
        "outputId": "789c0f5a-917e-462f-8db6-cf98cb6162f4"
      },
      "outputs": [
        {
          "output_type": "stream",
          "name": "stdout",
          "text": [
            "Collecting pymoo\n",
            "  Downloading pymoo-0.6.1.3-cp310-cp310-manylinux_2_17_x86_64.manylinux2014_x86_64.whl.metadata (5.0 kB)\n",
            "Requirement already satisfied: numpy>=1.15 in /usr/local/lib/python3.10/dist-packages (from pymoo) (1.26.4)\n",
            "Requirement already satisfied: scipy>=1.1 in /usr/local/lib/python3.10/dist-packages (from pymoo) (1.13.1)\n",
            "Requirement already satisfied: matplotlib>=3 in /usr/local/lib/python3.10/dist-packages (from pymoo) (3.8.0)\n",
            "Requirement already satisfied: autograd>=1.4 in /usr/local/lib/python3.10/dist-packages (from pymoo) (1.7.0)\n",
            "Collecting cma==3.2.2 (from pymoo)\n",
            "  Downloading cma-3.2.2-py2.py3-none-any.whl.metadata (8.0 kB)\n",
            "Collecting alive-progress (from pymoo)\n",
            "  Downloading alive_progress-3.2.0-py3-none-any.whl.metadata (70 kB)\n",
            "\u001b[2K     \u001b[90m━━━━━━━━━━━━━━━━━━━━━━━━━━━━━━━━━━━━━━━━\u001b[0m \u001b[32m70.6/70.6 kB\u001b[0m \u001b[31m2.1 MB/s\u001b[0m eta \u001b[36m0:00:00\u001b[0m\n",
            "\u001b[?25hCollecting dill (from pymoo)\n",
            "  Downloading dill-0.3.9-py3-none-any.whl.metadata (10 kB)\n",
            "Requirement already satisfied: Deprecated in /usr/local/lib/python3.10/dist-packages (from pymoo) (1.2.15)\n",
            "Requirement already satisfied: contourpy>=1.0.1 in /usr/local/lib/python3.10/dist-packages (from matplotlib>=3->pymoo) (1.3.1)\n",
            "Requirement already satisfied: cycler>=0.10 in /usr/local/lib/python3.10/dist-packages (from matplotlib>=3->pymoo) (0.12.1)\n",
            "Requirement already satisfied: fonttools>=4.22.0 in /usr/local/lib/python3.10/dist-packages (from matplotlib>=3->pymoo) (4.55.0)\n",
            "Requirement already satisfied: kiwisolver>=1.0.1 in /usr/local/lib/python3.10/dist-packages (from matplotlib>=3->pymoo) (1.4.7)\n",
            "Requirement already satisfied: packaging>=20.0 in /usr/local/lib/python3.10/dist-packages (from matplotlib>=3->pymoo) (24.2)\n",
            "Requirement already satisfied: pillow>=6.2.0 in /usr/local/lib/python3.10/dist-packages (from matplotlib>=3->pymoo) (11.0.0)\n",
            "Requirement already satisfied: pyparsing>=2.3.1 in /usr/local/lib/python3.10/dist-packages (from matplotlib>=3->pymoo) (3.2.0)\n",
            "Requirement already satisfied: python-dateutil>=2.7 in /usr/local/lib/python3.10/dist-packages (from matplotlib>=3->pymoo) (2.8.2)\n",
            "Collecting about-time==4.2.1 (from alive-progress->pymoo)\n",
            "  Downloading about_time-4.2.1-py3-none-any.whl.metadata (13 kB)\n",
            "Collecting grapheme==0.6.0 (from alive-progress->pymoo)\n",
            "  Downloading grapheme-0.6.0.tar.gz (207 kB)\n",
            "\u001b[2K     \u001b[90m━━━━━━━━━━━━━━━━━━━━━━━━━━━━━━━━━━━━━━━━\u001b[0m \u001b[32m207.3/207.3 kB\u001b[0m \u001b[31m6.6 MB/s\u001b[0m eta \u001b[36m0:00:00\u001b[0m\n",
            "\u001b[?25h  Preparing metadata (setup.py) ... \u001b[?25l\u001b[?25hdone\n",
            "Requirement already satisfied: wrapt<2,>=1.10 in /usr/local/lib/python3.10/dist-packages (from Deprecated->pymoo) (1.16.0)\n",
            "Requirement already satisfied: six>=1.5 in /usr/local/lib/python3.10/dist-packages (from python-dateutil>=2.7->matplotlib>=3->pymoo) (1.16.0)\n",
            "Downloading pymoo-0.6.1.3-cp310-cp310-manylinux_2_17_x86_64.manylinux2014_x86_64.whl (4.2 MB)\n",
            "\u001b[2K   \u001b[90m━━━━━━━━━━━━━━━━━━━━━━━━━━━━━━━━━━━━━━━━\u001b[0m \u001b[32m4.2/4.2 MB\u001b[0m \u001b[31m51.1 MB/s\u001b[0m eta \u001b[36m0:00:00\u001b[0m\n",
            "\u001b[?25hDownloading cma-3.2.2-py2.py3-none-any.whl (249 kB)\n",
            "\u001b[2K   \u001b[90m━━━━━━━━━━━━━━━━━━━━━━━━━━━━━━━━━━━━━━━━\u001b[0m \u001b[32m249.1/249.1 kB\u001b[0m \u001b[31m16.9 MB/s\u001b[0m eta \u001b[36m0:00:00\u001b[0m\n",
            "\u001b[?25hDownloading alive_progress-3.2.0-py3-none-any.whl (77 kB)\n",
            "\u001b[2K   \u001b[90m━━━━━━━━━━━━━━━━━━━━━━━━━━━━━━━━━━━━━━━━\u001b[0m \u001b[32m77.1/77.1 kB\u001b[0m \u001b[31m5.9 MB/s\u001b[0m eta \u001b[36m0:00:00\u001b[0m\n",
            "\u001b[?25hDownloading about_time-4.2.1-py3-none-any.whl (13 kB)\n",
            "Downloading dill-0.3.9-py3-none-any.whl (119 kB)\n",
            "\u001b[2K   \u001b[90m━━━━━━━━━━━━━━━━━━━━━━━━━━━━━━━━━━━━━━━━\u001b[0m \u001b[32m119.4/119.4 kB\u001b[0m \u001b[31m7.9 MB/s\u001b[0m eta \u001b[36m0:00:00\u001b[0m\n",
            "\u001b[?25hBuilding wheels for collected packages: grapheme\n",
            "  Building wheel for grapheme (setup.py) ... \u001b[?25l\u001b[?25hdone\n",
            "  Created wheel for grapheme: filename=grapheme-0.6.0-py3-none-any.whl size=210082 sha256=c2431d6371d42094f9bca78f320ae8012425fe991a556d7d621647251837d7c4\n",
            "  Stored in directory: /root/.cache/pip/wheels/01/e1/49/37e6bde9886439057450c494a79b0bef8bbe897a54aebfc757\n",
            "Successfully built grapheme\n",
            "Installing collected packages: grapheme, dill, cma, about-time, alive-progress, pymoo\n",
            "Successfully installed about-time-4.2.1 alive-progress-3.2.0 cma-3.2.2 dill-0.3.9 grapheme-0.6.0 pymoo-0.6.1.3\n",
            "Collecting pymoode\n",
            "  Downloading pymoode-0.3.0-cp310-cp310-manylinux_2_17_x86_64.manylinux2014_x86_64.whl.metadata (9.3 kB)\n",
            "Requirement already satisfied: numpy>=1.19.0 in /usr/local/lib/python3.10/dist-packages (from pymoode) (1.26.4)\n",
            "Collecting pymoo==0.6.1 (from pymoode)\n",
            "  Downloading pymoo-0.6.1-cp310-cp310-manylinux_2_17_x86_64.manylinux2014_x86_64.whl.metadata (5.1 kB)\n",
            "Requirement already satisfied: scipy>=1.7.0 in /usr/local/lib/python3.10/dist-packages (from pymoode) (1.13.1)\n",
            "Requirement already satisfied: future in /usr/local/lib/python3.10/dist-packages (from pymoode) (1.0.0)\n",
            "Requirement already satisfied: matplotlib>=3 in /usr/local/lib/python3.10/dist-packages (from pymoo==0.6.1->pymoode) (3.8.0)\n",
            "Requirement already satisfied: autograd>=1.4 in /usr/local/lib/python3.10/dist-packages (from pymoo==0.6.1->pymoode) (1.7.0)\n",
            "Requirement already satisfied: cma==3.2.2 in /usr/local/lib/python3.10/dist-packages (from pymoo==0.6.1->pymoode) (3.2.2)\n",
            "Requirement already satisfied: alive-progress in /usr/local/lib/python3.10/dist-packages (from pymoo==0.6.1->pymoode) (3.2.0)\n",
            "Requirement already satisfied: dill in /usr/local/lib/python3.10/dist-packages (from pymoo==0.6.1->pymoode) (0.3.9)\n",
            "Requirement already satisfied: Deprecated in /usr/local/lib/python3.10/dist-packages (from pymoo==0.6.1->pymoode) (1.2.15)\n",
            "Requirement already satisfied: contourpy>=1.0.1 in /usr/local/lib/python3.10/dist-packages (from matplotlib>=3->pymoo==0.6.1->pymoode) (1.3.1)\n",
            "Requirement already satisfied: cycler>=0.10 in /usr/local/lib/python3.10/dist-packages (from matplotlib>=3->pymoo==0.6.1->pymoode) (0.12.1)\n",
            "Requirement already satisfied: fonttools>=4.22.0 in /usr/local/lib/python3.10/dist-packages (from matplotlib>=3->pymoo==0.6.1->pymoode) (4.55.0)\n",
            "Requirement already satisfied: kiwisolver>=1.0.1 in /usr/local/lib/python3.10/dist-packages (from matplotlib>=3->pymoo==0.6.1->pymoode) (1.4.7)\n",
            "Requirement already satisfied: packaging>=20.0 in /usr/local/lib/python3.10/dist-packages (from matplotlib>=3->pymoo==0.6.1->pymoode) (24.2)\n",
            "Requirement already satisfied: pillow>=6.2.0 in /usr/local/lib/python3.10/dist-packages (from matplotlib>=3->pymoo==0.6.1->pymoode) (11.0.0)\n",
            "Requirement already satisfied: pyparsing>=2.3.1 in /usr/local/lib/python3.10/dist-packages (from matplotlib>=3->pymoo==0.6.1->pymoode) (3.2.0)\n",
            "Requirement already satisfied: python-dateutil>=2.7 in /usr/local/lib/python3.10/dist-packages (from matplotlib>=3->pymoo==0.6.1->pymoode) (2.8.2)\n",
            "Requirement already satisfied: about-time==4.2.1 in /usr/local/lib/python3.10/dist-packages (from alive-progress->pymoo==0.6.1->pymoode) (4.2.1)\n",
            "Requirement already satisfied: grapheme==0.6.0 in /usr/local/lib/python3.10/dist-packages (from alive-progress->pymoo==0.6.1->pymoode) (0.6.0)\n",
            "Requirement already satisfied: wrapt<2,>=1.10 in /usr/local/lib/python3.10/dist-packages (from Deprecated->pymoo==0.6.1->pymoode) (1.16.0)\n",
            "Requirement already satisfied: six>=1.5 in /usr/local/lib/python3.10/dist-packages (from python-dateutil>=2.7->matplotlib>=3->pymoo==0.6.1->pymoode) (1.16.0)\n",
            "Downloading pymoode-0.3.0-cp310-cp310-manylinux_2_17_x86_64.manylinux2014_x86_64.whl (1.7 MB)\n",
            "\u001b[2K   \u001b[90m━━━━━━━━━━━━━━━━━━━━━━━━━━━━━━━━━━━━━━━━\u001b[0m \u001b[32m1.7/1.7 MB\u001b[0m \u001b[31m20.1 MB/s\u001b[0m eta \u001b[36m0:00:00\u001b[0m\n",
            "\u001b[?25hDownloading pymoo-0.6.1-cp310-cp310-manylinux_2_17_x86_64.manylinux2014_x86_64.whl (4.1 MB)\n",
            "\u001b[2K   \u001b[90m━━━━━━━━━━━━━━━━━━━━━━━━━━━━━━━━━━━━━━━━\u001b[0m \u001b[32m4.1/4.1 MB\u001b[0m \u001b[31m45.4 MB/s\u001b[0m eta \u001b[36m0:00:00\u001b[0m\n",
            "\u001b[?25hInstalling collected packages: pymoo, pymoode\n",
            "  Attempting uninstall: pymoo\n",
            "    Found existing installation: pymoo 0.6.1.3\n",
            "    Uninstalling pymoo-0.6.1.3:\n",
            "      Successfully uninstalled pymoo-0.6.1.3\n",
            "Successfully installed pymoo-0.6.1 pymoode-0.3.0\n"
          ]
        }
      ],
      "source": [
        "!pip install pymoo\n",
        "!pip install pymoode"
      ]
    },
    {
      "cell_type": "code",
      "source": [
        "import numpy as np\n",
        "import matplotlib.pyplot as plt"
      ],
      "metadata": {
        "id": "twGR_aZG02-D"
      },
      "execution_count": null,
      "outputs": []
    },
    {
      "cell_type": "code",
      "source": [
        "from pymoo.core.problem import Problem, ElementwiseProblem\n",
        "from pymoo.problems.functional import FunctionalProblem\n",
        "from pymoo.optimize import minimize\n",
        "\n",
        "# Algorithms\n",
        "from pymoode.algorithms import NSDE\n",
        "\n",
        "# Reference directions and test problems\n",
        "from pymoo.problems import get_problem\n",
        "from pymoo.util.ref_dirs import get_reference_directions\n",
        "\n",
        "# Survival operators\n",
        "from pymoode.survival import RankAndCrowding, ConstrRankAndCrowding\n",
        "\n",
        "# Termination\n",
        "from pymoo.termination.default import DefaultSingleObjectiveTermination, DefaultMultiObjectiveTermination\n",
        "\n",
        "# Performance\n",
        "from pymoode.performance import SpacingIndicator\n",
        "\n",
        "from pymoo.problems.functional import FunctionalProblem"
      ],
      "metadata": {
        "id": "oYmXQmWB06PO"
      },
      "execution_count": null,
      "outputs": []
    },
    {
      "cell_type": "code",
      "source": [
        "# Defining the colorfulness function (replacing rastrigin)\n",
        "def colorfulness_func(x):\n",
        "    r, g, b = x\n",
        "    return np.sqrt((r - g) ** 2 + (g - b) ** 2 + (b - r) ** 2)"
      ],
      "metadata": {
        "id": "AN1j1CLT0-up"
      },
      "execution_count": null,
      "outputs": []
    },
    {
      "cell_type": "code",
      "source": [
        "# Functional problem for colorfulness\n",
        "functional_colorfulness = FunctionalProblem(\n",
        "    n_var=3,  # RGB components\n",
        "    objs=colorfulness_func,\n",
        "    xl=np.full(3, 0.0),  # Min value for RGB (0)\n",
        "    xu=np.full(3, 255.0),  # Max value for RGB (255)\n",
        "    constr_ieq=[]\n",
        ")"
      ],
      "metadata": {
        "id": "vTq9ZWUM1KDM"
      },
      "execution_count": null,
      "outputs": []
    },
    {
      "cell_type": "code",
      "source": [
        "class ElementwiseColorfulness(ElementwiseProblem):\n",
        "\n",
        "    def __init__(self):\n",
        "\n",
        "        xl = np.full(3, 0.0)\n",
        "        xu = np.full(3, 255.0)\n",
        "\n",
        "        super().__init__(n_var=3, n_obj=1, n_ieq_constr=0, xl=xl, xu=xu)\n",
        "\n",
        "    def _evaluate(self, x, out, *args, **kwargs):\n",
        "        out[\"F\"] = colorfulness_func(x)\n"
      ],
      "metadata": {
        "id": "uwOsIPPq1OYM"
      },
      "execution_count": null,
      "outputs": []
    },
    {
      "cell_type": "code",
      "source": [
        "class Colorfulness(Problem):\n",
        "\n",
        "    def __init__(self):\n",
        "\n",
        "        xl = np.full(3, 0.0)\n",
        "        xu = np.full(3, 255.0)\n",
        "\n",
        "        super().__init__(n_var=3, n_obj=1, n_ieq_constr=0, xl=xl, xu=xu)\n",
        "\n",
        "    def _evaluate(self, x, out, *args, **kwargs):\n",
        "\n",
        "        out[\"F\"] = np.sqrt((x[:, 0] - x[:, 1]) ** 2 + (x[:, 1] - x[:, 2]) ** 2 + (x[:, 2] - x[:, 0]) ** 2)\n"
      ],
      "metadata": {
        "id": "29zxV6-h1Vgk"
      },
      "execution_count": null,
      "outputs": []
    },
    {
      "cell_type": "code",
      "source": [
        "nsde = NSDE(pop_size=50, variant=\"DE/rand/1/bin\", F=(0.3, 1.0), CR=0.5)"
      ],
      "metadata": {
        "id": "oF9Tc6aZ1YB-"
      },
      "execution_count": null,
      "outputs": []
    },
    {
      "cell_type": "code",
      "source": [
        "NGEN = 100\n",
        "SEED = 12"
      ],
      "metadata": {
        "id": "jsfba7JE1ghA"
      },
      "execution_count": null,
      "outputs": []
    },
    {
      "cell_type": "code",
      "source": [
        "termination_single = DefaultSingleObjectiveTermination(\n",
        "    xtol=1e-8,\n",
        "    cvtol=0.0,\n",
        "    ftol=1e-8,\n",
        "    period=20,\n",
        "    n_max_gen=NGEN,\n",
        ")"
      ],
      "metadata": {
        "id": "nFBUC0Mu1a_-"
      },
      "execution_count": null,
      "outputs": []
    },
    {
      "cell_type": "code",
      "source": [
        "colorfulness_problem = Colorfulness()\n",
        "\n",
        "res_nsde_colorfulness = minimize(\n",
        "    colorfulness_problem,\n",
        "    nsde,\n",
        "    termination=termination_single,\n",
        "    seed=SEED,\n",
        "    save_history=True,\n",
        "    verbose=False\n",
        ")\n",
        "\n",
        "print(f\"Optimal Colorfulness: {(res_nsde_colorfulness.F[0]):.4f}\")\n",
        "print(f\"Optimal RGB Values: {(res_nsde_colorfulness.X)}\")\n"
      ],
      "metadata": {
        "colab": {
          "base_uri": "https://localhost:8080/"
        },
        "id": "PIJx6nNA1kDz",
        "outputId": "4fa0911e-00fd-44cf-be3b-59f2e72efc83"
      },
      "execution_count": null,
      "outputs": [
        {
          "output_type": "stream",
          "name": "stdout",
          "text": [
            "Optimal Colorfulness: 0.0000\n",
            "Optimal RGB Values: [254.99999995 254.99999997 254.99999994]\n"
          ]
        }
      ]
    },
    {
      "cell_type": "code",
      "source": [
        "# Creating a contour plot\n",
        "r = np.linspace(0, 255, 100)\n",
        "g = np.linspace(0, 255, 100)\n",
        "b = np.linspace(0, 255, 100)\n",
        "R, G = np.meshgrid(r, g)\n",
        "B = np.vstack([b] * 100).T\n",
        "X = np.vstack([R.flatten().reshape([1, -1]), G.flatten().reshape([1, -1]), B.flatten().reshape([1, -1])]).T\n",
        "F = np.array([colorfulness_func(x) for x in X])\n",
        "F = F.reshape([100, 100])"
      ],
      "metadata": {
        "id": "bd-ta4IN1rWR"
      },
      "execution_count": null,
      "outputs": []
    },
    {
      "cell_type": "code",
      "source": [
        "fig, ax = plt.subplots(figsize=[6, 5], dpi=70)\n",
        "\n",
        "fig.patch.set_facecolor('white')\n",
        "\n",
        "surf = ax.contourf(R, G, F, levels=40)\n",
        "fig.colorbar(surf, shrink=1.0, aspect=20)\n",
        "\n",
        "ax.scatter(\n",
        "    res_nsde_colorfulness.history[9].pop.get(\"X\")[:, 0],\n",
        "    res_nsde_colorfulness.history[9].pop.get(\"X\")[:, 1],\n",
        "    marker=\"x\", color=\"yellow\", label=\"10th gen\",\n",
        ")\n",
        "\n",
        "ax.scatter(\n",
        "    res_nsde_colorfulness.history[-1].pop.get(\"X\")[:, 0],\n",
        "    res_nsde_colorfulness.history[-1].pop.get(\"X\")[:, 1],\n",
        "    marker=\"x\", color=\"red\", label=\"Last gen\",\n",
        ")\n",
        "ax.legend(framealpha=1.0)\n",
        "\n",
        "ax.set_xlabel(\"$R$\")\n",
        "ax.set_ylabel(\"$G$\")\n",
        "\n",
        "plt.tight_layout()"
      ],
      "metadata": {
        "colab": {
          "base_uri": "https://localhost:8080/",
          "height": 359
        },
        "id": "nlI6_Pvd1yFo",
        "outputId": "057b46a9-e200-4036-df27-943183572f32"
      },
      "execution_count": null,
      "outputs": [
        {
          "output_type": "display_data",
          "data": {
            "text/plain": [
              "<Figure size 420x350 with 2 Axes>"
            ],
            "image/png": "[encoded data removed]"
          },
          "metadata": {}
        }
      ]
    }
  ]
}